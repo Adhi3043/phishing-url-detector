{
 "cells": [
  {
   "cell_type": "code",
   "execution_count": null,
   "id": "40392e0a-8504-4883-9fd2-44bf567af86b",
   "metadata": {},
   "outputs": [],
   "source": [
    "import pandas as pd\n",
    "\n",
    "# Load dataset\n",
    "df = pd.read_csv(\"data/phishing_site_urls.csv\")\n",
    "\n",
    "# Show top 5 rows\n",
    "print(df.head())\n",
    "\n",
    "# How many phishing vs legitimate?\n",
    "print(\"\\nLabel Counts:\\n\", df['label'].value_counts())\n"
   ]
  }
 ],
 "metadata": {
  "kernelspec": {
   "display_name": "Python 3 (ipykernel)",
   "language": "python",
   "name": "python3"
  },
  "language_info": {
   "codemirror_mode": {
    "name": "ipython",
    "version": 3
   },
   "file_extension": ".py",
   "mimetype": "text/x-python",
   "name": "python",
   "nbconvert_exporter": "python",
   "pygments_lexer": "ipython3",
   "version": "3.13.2"
  }
 },
 "nbformat": 4,
 "nbformat_minor": 5
}
