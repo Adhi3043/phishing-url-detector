{
 "cells": [
  {
   "cell_type": "code",
   "execution_count": 1,
   "id": "40392e0a-8504-4883-9fd2-44bf567af86b",
   "metadata": {},
   "outputs": [
    {
     "name": "stdout",
     "output_type": "stream",
     "text": [
      "                                                 url       label\n",
      "0         http://login.paypal.com.session-123456.com    phishing\n",
      "1        http://secure.bankofamerica.verify-user.com    phishing\n",
      "2  http://update-security.microsoft.com.windows12...    phishing\n",
      "3                             https://www.google.com  legitimate\n",
      "4                             https://www.amazon.com  legitimate\n",
      "\n",
      "Label Counts:\n",
      "label\n",
      "phishing      6\n",
      "legitimate    4\n",
      "Name: count, dtype: int64\n"
     ]
    }
   ],
   "source": [
    "import pandas as pd\n",
    "\n",
    "# Load the CSV file directly since you're already in the /data folder\n",
    "df = pd.read_csv(\"phishing_site_urls.csv\")\n",
    " # note: updated path since we're back in project root\n",
    "\n",
    "print(df.head())\n",
    "print(\"\\nLabel Counts:\")\n",
    "print(df['label'].value_counts())\n"
   ]
  },
  {
   "cell_type": "code",
   "execution_count": 2,
   "id": "8b06d32b-1dba-457a-bdf4-89aeb28106d1",
   "metadata": {},
   "outputs": [
    {
     "data": {
      "text/html": [
       "<div>\n",
       "<style scoped>\n",
       "    .dataframe tbody tr th:only-of-type {\n",
       "        vertical-align: middle;\n",
       "    }\n",
       "\n",
       "    .dataframe tbody tr th {\n",
       "        vertical-align: top;\n",
       "    }\n",
       "\n",
       "    .dataframe thead th {\n",
       "        text-align: right;\n",
       "    }\n",
       "</style>\n",
       "<table border=\"1\" class=\"dataframe\">\n",
       "  <thead>\n",
       "    <tr style=\"text-align: right;\">\n",
       "      <th></th>\n",
       "      <th>length</th>\n",
       "      <th>hyphens</th>\n",
       "      <th>at_count</th>\n",
       "      <th>dots</th>\n",
       "      <th>digits</th>\n",
       "      <th>https</th>\n",
       "      <th>label</th>\n",
       "    </tr>\n",
       "  </thead>\n",
       "  <tbody>\n",
       "    <tr>\n",
       "      <th>0</th>\n",
       "      <td>42</td>\n",
       "      <td>1</td>\n",
       "      <td>0</td>\n",
       "      <td>4</td>\n",
       "      <td>6</td>\n",
       "      <td>0</td>\n",
       "      <td>phishing</td>\n",
       "    </tr>\n",
       "    <tr>\n",
       "      <th>1</th>\n",
       "      <td>43</td>\n",
       "      <td>1</td>\n",
       "      <td>0</td>\n",
       "      <td>3</td>\n",
       "      <td>0</td>\n",
       "      <td>0</td>\n",
       "      <td>phishing</td>\n",
       "    </tr>\n",
       "    <tr>\n",
       "      <th>2</th>\n",
       "      <td>51</td>\n",
       "      <td>1</td>\n",
       "      <td>0</td>\n",
       "      <td>4</td>\n",
       "      <td>3</td>\n",
       "      <td>0</td>\n",
       "      <td>phishing</td>\n",
       "    </tr>\n",
       "    <tr>\n",
       "      <th>3</th>\n",
       "      <td>22</td>\n",
       "      <td>0</td>\n",
       "      <td>0</td>\n",
       "      <td>2</td>\n",
       "      <td>0</td>\n",
       "      <td>1</td>\n",
       "      <td>legitimate</td>\n",
       "    </tr>\n",
       "    <tr>\n",
       "      <th>4</th>\n",
       "      <td>22</td>\n",
       "      <td>0</td>\n",
       "      <td>0</td>\n",
       "      <td>2</td>\n",
       "      <td>0</td>\n",
       "      <td>1</td>\n",
       "      <td>legitimate</td>\n",
       "    </tr>\n",
       "  </tbody>\n",
       "</table>\n",
       "</div>"
      ],
      "text/plain": [
       "   length  hyphens  at_count  dots  digits  https       label\n",
       "0      42        1         0     4       6      0    phishing\n",
       "1      43        1         0     3       0      0    phishing\n",
       "2      51        1         0     4       3      0    phishing\n",
       "3      22        0         0     2       0      1  legitimate\n",
       "4      22        0         0     2       0      1  legitimate"
      ]
     },
     "execution_count": 2,
     "metadata": {},
     "output_type": "execute_result"
    }
   ],
   "source": [
    "import numpy as np\n",
    "\n",
    "# Define function to extract features\n",
    "def extract_features(url):\n",
    "    return pd.Series([\n",
    "        len(url),                              # Length of URL\n",
    "        url.count('-'),                        # Number of hyphens\n",
    "        url.count('@'),                        # Number of @ symbols\n",
    "        url.count('.'),                        # Number of dots\n",
    "        sum(c.isdigit() for c in url),         # Number of digits\n",
    "        1 if url.startswith(\"https\") else 0    # Uses HTTPS or not\n",
    "    ])\n",
    "\n",
    "# Apply to all URLs\n",
    "df_features = df['url'].apply(extract_features)\n",
    "\n",
    "# Rename columns\n",
    "df_features.columns = ['length', 'hyphens', 'at_count', 'dots', 'digits', 'https']\n",
    "\n",
    "# Add label back to the features\n",
    "df_features['label'] = df['label']\n",
    "\n",
    "# Show result\n",
    "df_features.head()\n"
   ]
  },
  {
   "cell_type": "code",
   "execution_count": 3,
   "id": "037fd9c0-8a5d-4540-aa0f-82d913400ca9",
   "metadata": {},
   "outputs": [
    {
     "name": "stdout",
     "output_type": "stream",
     "text": [
      "Accuracy: 1.0\n",
      "\n",
      "Classification Report:\n",
      "               precision    recall  f1-score   support\n",
      "\n",
      "           0       1.00      1.00      1.00         1\n",
      "           1       1.00      1.00      1.00         2\n",
      "\n",
      "    accuracy                           1.00         3\n",
      "   macro avg       1.00      1.00      1.00         3\n",
      "weighted avg       1.00      1.00      1.00         3\n",
      "\n"
     ]
    }
   ],
   "source": [
    "from sklearn.ensemble import RandomForestClassifier\n",
    "from sklearn.model_selection import train_test_split\n",
    "from sklearn.metrics import classification_report, accuracy_score\n",
    "\n",
    "# Separate features and label\n",
    "X = df_features.drop('label', axis=1)\n",
    "y = df_features['label']\n",
    "\n",
    "# Convert labels to numbers (phishing=1, legitimate=0)\n",
    "y = y.map({'phishing': 1, 'legitimate': 0})\n",
    "\n",
    "# Split data into training and testing sets (70% train, 30% test)\n",
    "X_train, X_test, y_train, y_test = train_test_split(X, y, test_size=0.3, random_state=42)\n",
    "\n",
    "# Train Random Forest model\n",
    "model = RandomForestClassifier()\n",
    "model.fit(X_train, y_train)\n",
    "\n",
    "# Predict on test set\n",
    "y_pred = model.predict(X_test)\n",
    "\n",
    "# Show results\n",
    "print(\"Accuracy:\", accuracy_score(y_test, y_pred))\n",
    "print(\"\\nClassification Report:\\n\", classification_report(y_test, y_pred))\n"
   ]
  },
  {
   "cell_type": "code",
   "execution_count": 17,
   "id": "c7c00bad-cf59-40ae-8bc4-ea4d55dfd51e",
   "metadata": {},
   "outputs": [],
   "source": [
    "def test_url(url):\n",
    "    features = pd.DataFrame([[\n",
    "        len(url),\n",
    "        url.count('-'),\n",
    "        url.count('@'),\n",
    "        url.count('.'),\n",
    "        sum(c.isdigit() for c in url),\n",
    "        1 if url.startswith(\"https\") else 0\n",
    "    ]], columns=['length', 'hyphens', 'at_count', 'dots', 'digits', 'https'])\n",
    "\n",
    "    prediction = model.predict(features)\n",
    "    print(\"🧠 Prediction:\", \"Phishing\" if prediction[0] == 1 else \"Legitimate\")\n",
    "\n",
    "    test_url(\"http://secure-update-paypal.com/login\")\n",
    "    test_url(\"https://www.microsoft.com\")\n",
    "\n"
   ]
  },
  {
   "cell_type": "code",
   "execution_count": 4,
   "id": "5321854e-311f-4ae3-8ef7-d045949a63a4",
   "metadata": {},
   "outputs": [
    {
     "name": "stdout",
     "output_type": "stream",
     "text": [
      "🧠 TF-IDF Model Accuracy: 1.0\n",
      "\n",
      "Classification Report:\n",
      "               precision    recall  f1-score   support\n",
      "\n",
      "           0       1.00      1.00      1.00         1\n",
      "           1       1.00      1.00      1.00         2\n",
      "\n",
      "    accuracy                           1.00         3\n",
      "   macro avg       1.00      1.00      1.00         3\n",
      "weighted avg       1.00      1.00      1.00         3\n",
      "\n"
     ]
    }
   ],
   "source": [
    "from sklearn.feature_extraction.text import TfidfVectorizer\n",
    "from sklearn.ensemble import RandomForestClassifier\n",
    "from sklearn.model_selection import train_test_split\n",
    "from sklearn.metrics import accuracy_score, classification_report\n",
    "\n",
    "# Prepare data\n",
    "X = df['url']\n",
    "y = df['label'].map({'phishing': 1, 'legitimate': 0})\n",
    "\n",
    "# Convert URL strings into TF-IDF vectors\n",
    "vectorizer = TfidfVectorizer(analyzer='char', ngram_range=(2, 5))  # you can tweak this later\n",
    "X_tfidf = vectorizer.fit_transform(X)\n",
    "\n",
    "# Train/test split\n",
    "X_train, X_test, y_train, y_test = train_test_split(X_tfidf, y, test_size=0.3, random_state=42)\n",
    "\n",
    "# Train model\n",
    "model_tfidf = RandomForestClassifier()\n",
    "model_tfidf.fit(X_train, y_train)\n",
    "\n",
    "# Predict and show results\n",
    "y_pred = model_tfidf.predict(X_test)\n",
    "print(\"🧠 TF-IDF Model Accuracy:\", accuracy_score(y_test, y_pred))\n",
    "print(\"\\nClassification Report:\\n\", classification_report(y_test, y_pred))\n"
   ]
  },
  {
   "cell_type": "code",
   "execution_count": 5,
   "id": "4579eef2-7bf2-444a-a03c-6d76eb7bc577",
   "metadata": {},
   "outputs": [
    {
     "name": "stdout",
     "output_type": "stream",
     "text": [
      "🤖 TF-IDF Prediction: Phishing\n",
      "🤖 TF-IDF Prediction: Legitimate\n"
     ]
    }
   ],
   "source": [
    "def test_tfidf_url(url):\n",
    "    # Transform the URL to match model input format\n",
    "    url_tfidf = vectorizer.transform([url])\n",
    "    \n",
    "    # Predict\n",
    "    prediction = model_tfidf.predict(url_tfidf)\n",
    "    print(\"🤖 TF-IDF Prediction:\", \"Phishing\" if prediction[0] == 1 else \"Legitimate\")\n",
    "\n",
    "# Test it!\n",
    "test_tfidf_url(\"http://signin-paypal-account-update.com\")\n",
    "test_tfidf_url(\"https://www.wikipedia.org\")\n"
   ]
  },
  {
   "cell_type": "code",
   "execution_count": 6,
   "id": "b180123b-bc22-4e1c-ae3c-e25bcd3e3e2a",
   "metadata": {},
   "outputs": [],
   "source": [
    "import pickle\n",
    "\n",
    "# Save trained model and vectorizer\n",
    "pickle.dump(model_tfidf, open(\"model_tfidf.pkl\", \"wb\"))\n",
    "pickle.dump(vectorizer, open(\"vectorizer.pkl\", \"wb\"))\n"
   ]
  },
  {
   "cell_type": "code",
   "execution_count": null,
   "id": "cf17d02c-4f38-410e-ad3f-c0b5b494db85",
   "metadata": {},
   "outputs": [],
   "source": []
  }
 ],
 "metadata": {
  "kernelspec": {
   "display_name": "Python 3 (ipykernel)",
   "language": "python",
   "name": "python3"
  },
  "language_info": {
   "codemirror_mode": {
    "name": "ipython",
    "version": 3
   },
   "file_extension": ".py",
   "mimetype": "text/x-python",
   "name": "python",
   "nbconvert_exporter": "python",
   "pygments_lexer": "ipython3",
   "version": "3.13.2"
  }
 },
 "nbformat": 4,
 "nbformat_minor": 5
}
